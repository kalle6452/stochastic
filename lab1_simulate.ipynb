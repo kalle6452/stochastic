{
 "cells": [
  {
   "cell_type": "code",
   "execution_count": 1,
   "metadata": {},
   "outputs": [],
   "source": [
    "import numpy as np\n",
    "from numpy.linalg import matrix_power"
   ]
  },
  {
   "cell_type": "code",
   "execution_count": 6,
   "metadata": {},
   "outputs": [
    {
     "data": {
      "text/plain": [
       "array([[0.4, 0. , 0.6],\n",
       "       [0. , 0.6, 0.4],\n",
       "       [0.2, 0.3, 0.5]])"
      ]
     },
     "execution_count": 6,
     "metadata": {},
     "output_type": "execute_result"
    }
   ],
   "source": [
    "p = 0.3\n",
    "q = 0.5\n",
    "r = 0.2\n",
    "P = np.array([[p + r/2,0,q + r/2],[0,q+r/2,p+r/2],[p/2+r/4,q/2+r/4,p/2+q/2+r/2]])\n",
    "P"
   ]
  },
  {
   "cell_type": "code",
   "execution_count": 4,
   "metadata": {},
   "outputs": [
    {
     "data": {
      "text/plain": [
       "array([[0.15999999, 0.35999998, 0.47999997],\n",
       "       [0.15999999, 0.35999998, 0.47999997],\n",
       "       [0.15999999, 0.35999998, 0.47999997]])"
      ]
     },
     "execution_count": 4,
     "metadata": {},
     "output_type": "execute_result"
    }
   ],
   "source": [
    "# d)compare with limntoinfP^n\n",
    "# matrix_power använder sig av matriskvadreringar och matrismultiplikationer\n",
    "# matriskvadreringar så länge det går jämnt, och sen multi\n",
    "matrix_power(P,10**10)"
   ]
  }
 ],
 "metadata": {
  "kernelspec": {
   "display_name": "virtual-python",
   "language": "python",
   "name": "python3"
  },
  "language_info": {
   "codemirror_mode": {
    "name": "ipython",
    "version": 3
   },
   "file_extension": ".py",
   "mimetype": "text/x-python",
   "name": "python",
   "nbconvert_exporter": "python",
   "pygments_lexer": "ipython3",
   "version": "3.12.7"
  }
 },
 "nbformat": 4,
 "nbformat_minor": 2
}
