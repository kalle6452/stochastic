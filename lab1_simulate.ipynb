{
 "cells": [
  {
   "cell_type": "code",
   "execution_count": 40,
   "metadata": {},
   "outputs": [],
   "source": [
    "import numpy as np\n",
    "from numpy.linalg import matrix_power\n",
    "import pydtmc\n",
    "from pydtmc import MarkovChain\n",
    "import random as rng"
   ]
  },
  {
   "cell_type": "code",
   "execution_count": 48,
   "metadata": {},
   "outputs": [
    {
     "data": {
      "text/plain": [
       "3"
      ]
     },
     "execution_count": 48,
     "metadata": {},
     "output_type": "execute_result"
    }
   ],
   "source": [
    "initial_state = rng.randint(0, 3) \n",
    "initial_state"
   ]
  },
  {
   "cell_type": "code",
   "execution_count": 50,
   "metadata": {},
   "outputs": [
    {
     "data": {
      "text/plain": [
       "3"
      ]
     },
     "execution_count": 50,
     "metadata": {},
     "output_type": "execute_result"
    }
   ],
   "source": [
    "p = 0.3\n",
    "q = 0.5\n",
    "r = 0.2\n",
    "P = np.array([[p + r/2,0,q + r/2],[0,q+r/2,p+r/2],[p/2+r/4,q/2+r/4,p/2+q/2+r/2]])\n",
    "P\n",
    "P.shape[1]"
   ]
  },
  {
   "cell_type": "code",
   "execution_count": 51,
   "metadata": {},
   "outputs": [
    {
     "name": "stdout",
     "output_type": "stream",
     "text": [
      "a:0.15800841991580084\n",
      "b:0.35998640013599864\n",
      "c:0.4820051799482005\n"
     ]
    }
   ],
   "source": [
    "# c) simulating markov chain\n",
    "mc = MarkovChain(P, ['A', 'B', 'C'])\n",
    "lista = mc.simulate(10**5)\n",
    "print(f'a:{lista.count('A')/len(lista)}')\n",
    "print(f'b:{lista.count('B')/len(lista)}')\n",
    "print(f'c:{lista.count('C')/len(lista)}')\n",
    "# Förklaring:\n",
    "# "
   ]
  },
  {
   "cell_type": "code",
   "execution_count": null,
   "metadata": {},
   "outputs": [],
   "source": [
    "lista = mc.simulate(10**5)\n",
    "a = 0\n",
    "b = 0\n",
    "c = 0\n",
    "for i in lista:\n",
    "    if i == 'A':\n",
    "        a += 1\n",
    "    elif i == 'B':\n",
    "        b += 1\n",
    "    elif i == 'C':\n",
    "        c += 1\n",
    "print(f'a: {a/len(lista)}, b:{b/len(lista)}, c:{c/len(lista)}')\n",
    "print(a,b,c)"
   ]
  },
  {
   "cell_type": "code",
   "execution_count": 3,
   "metadata": {},
   "outputs": [
    {
     "data": {
      "text/plain": [
       "array([[0.15999999, 0.35999998, 0.47999997],\n",
       "       [0.15999999, 0.35999998, 0.47999997],\n",
       "       [0.15999999, 0.35999998, 0.47999997]])"
      ]
     },
     "execution_count": 3,
     "metadata": {},
     "output_type": "execute_result"
    }
   ],
   "source": [
    "# d)compare with limntoinfP^n\n",
    "# matrix_power använder sig av matriskvadreringar och matrismultiplikationer\n",
    "# matriskvadreringar så länge det går jämnt(varje kvadrering ökar exponent med 2), och sen multi\n",
    "matrix_power(P,10**10)"
   ]
  },
  {
   "cell_type": "code",
   "execution_count": 17,
   "metadata": {},
   "outputs": [
    {
     "data": {
      "text/plain": [
       "0.48"
      ]
     },
     "execution_count": 17,
     "metadata": {},
     "output_type": "execute_result"
    }
   ],
   "source": [
    "12/25"
   ]
  },
  {
   "cell_type": "code",
   "execution_count": 18,
   "metadata": {},
   "outputs": [
    {
     "data": {
      "text/plain": [
       "0.36"
      ]
     },
     "execution_count": 18,
     "metadata": {},
     "output_type": "execute_result"
    }
   ],
   "source": [
    "9/25"
   ]
  },
  {
   "cell_type": "code",
   "execution_count": 22,
   "metadata": {},
   "outputs": [
    {
     "data": {
      "text/plain": [
       "0.16"
      ]
     },
     "execution_count": 22,
     "metadata": {},
     "output_type": "execute_result"
    }
   ],
   "source": [
    "4/25"
   ]
  }
 ],
 "metadata": {
  "kernelspec": {
   "display_name": "virtual-python",
   "language": "python",
   "name": "python3"
  },
  "language_info": {
   "codemirror_mode": {
    "name": "ipython",
    "version": 3
   },
   "file_extension": ".py",
   "mimetype": "text/x-python",
   "name": "python",
   "nbconvert_exporter": "python",
   "pygments_lexer": "ipython3",
   "version": "3.12.7"
  }
 },
 "nbformat": 4,
 "nbformat_minor": 2
}
