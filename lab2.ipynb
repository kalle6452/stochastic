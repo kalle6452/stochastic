{
 "cells": [
  {
   "cell_type": "code",
   "execution_count": 3,
   "metadata": {},
   "outputs": [],
   "source": [
    "import numpy as np\n",
    "from matplotlib import pyplot as plt"
   ]
  },
  {
   "cell_type": "code",
   "execution_count": 9,
   "metadata": {},
   "outputs": [
    {
     "data": {
      "text/plain": [
       "<matplotlib.collections.PathCollection at 0x7c707109aae0>"
      ]
     },
     "execution_count": 9,
     "metadata": {},
     "output_type": "execute_result"
    },
    {
     "data": {
      "image/png": "[encoded data removed]",
      "text/plain": [
       "<Figure size 640x480 with 1 Axes>"
      ]
     },
     "metadata": {},
     "output_type": "display_data"
    }
   ],
   "source": [
    "# rate=lambda, scale=beta\n",
    "rate = 20\n",
    "scale = 1/rate\n",
    "max_t = 1\n",
    "n = 100\n",
    "# Få n interarrival times\n",
    "dt = np.random.exponential(scale, n)\n",
    "# Få arrival times genom att ta summan av föregående element\n",
    "ts = np.cumsum(dt)\n",
    "ts = ts[ts < max_t]\n",
    "y = 1\n",
    "y = [y] * len(ts)\n",
    "plt.subplot(2, 1, 1)\n",
    "plt.scatter(ts, y)"
   ]
  },
  {
   "cell_type": "code",
   "execution_count": null,
   "metadata": {},
   "outputs": [
    {
     "ename": "TypeError",
     "evalue": "'<' not supported between instances of 'list' and 'int'",
     "output_type": "error",
     "traceback": [
      "\u001b[0;31m---------------------------------------------------------------------------\u001b[0m",
      "\u001b[0;31mTypeError\u001b[0m                                 Traceback (most recent call last)",
      "Cell \u001b[0;32mIn[16], line 22\u001b[0m\n\u001b[1;32m     20\u001b[0m         summa\u001b[38;5;241m.\u001b[39mappend(i)\n\u001b[1;32m     21\u001b[0m         counter \u001b[38;5;241m+\u001b[39m\u001b[38;5;241m=\u001b[39m \u001b[38;5;241m1\u001b[39m\n\u001b[0;32m---> 22\u001b[0m summa \u001b[38;5;241m=\u001b[39m summa[\u001b[43msumma\u001b[49m\u001b[43m \u001b[49m\u001b[38;5;241;43m<\u001b[39;49m\u001b[43m \u001b[49m\u001b[43mmax_t\u001b[49m]\n\u001b[1;32m     23\u001b[0m \u001b[38;5;28mprint\u001b[39m(\u001b[38;5;28mlen\u001b[39m(summa))\n\u001b[1;32m     24\u001b[0m \u001b[38;5;28mprint\u001b[39m(\u001b[38;5;28mlen\u001b[39m(ts))\n",
      "\u001b[0;31mTypeError\u001b[0m: '<' not supported between instances of 'list' and 'int'"
     ]
    }
   ],
   "source": [
    "# rate=lambda, scale=beta\n",
    "rate = 20\n",
    "scale = 1/rate\n",
    "max_t = 1\n",
    "n = 100\n",
    "# Få n interarrival times\n",
    "dt = np.random.exponential(scale, n)\n",
    "# Få arrival times genom att ta summan av föregående element\n",
    "ts = np.cumsum(dt)\n",
    "ts = ts[ts < max_t]\n",
    "# En naiv implementation\n",
    "summa = []\n",
    "counter = 0\n",
    "for i in dt:\n",
    "    if counter == 0:\n",
    "        summa.append(i)\n",
    "        counter += 1\n",
    "    else:\n",
    "        i += summa[counter-1]\n",
    "        summa.append(i)\n",
    "        counter += 1\n",
    "print(len(summa))\n",
    "print(len(ts))\n",
    "y = 1\n",
    "y = [y] * len(ts)\n",
    "plt.subplot(2, 1, 1)\n",
    "plt.scatter(ts, y)"
   ]
  }
 ],
 "metadata": {
  "kernelspec": {
   "display_name": "virtual-python",
   "language": "python",
   "name": "python3"
  },
  "language_info": {
   "codemirror_mode": {
    "name": "ipython",
    "version": 3
   },
   "file_extension": ".py",
   "mimetype": "text/x-python",
   "name": "python",
   "nbconvert_exporter": "python",
   "pygments_lexer": "ipython3",
   "version": "3.12.7"
  }
 },
 "nbformat": 4,
 "nbformat_minor": 2
}
