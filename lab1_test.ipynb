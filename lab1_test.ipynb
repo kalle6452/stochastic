{
 "cells": [
  {
   "cell_type": "code",
   "execution_count": 1,
   "metadata": {},
   "outputs": [],
   "source": [
    "import numpy as np\n",
    "from numpy.linalg import matrix_power\n",
    "import pydtmc\n",
    "from pydtmc import MarkovChain"
   ]
  },
  {
   "cell_type": "code",
   "execution_count": 11,
   "metadata": {},
   "outputs": [
    {
     "data": {
      "text/plain": [
       "[[0.4, 0, 0.6], [0, 0.6, 0.4], [0.2, 0.3, 0.5]]"
      ]
     },
     "execution_count": 11,
     "metadata": {},
     "output_type": "execute_result"
    }
   ],
   "source": [
    "p_v = 0.3\n",
    "q = 0.5\n",
    "r = 0.2\n",
    "#P = np.array([[p + r/2,0,q + r/2],[0,q+r/2,p+r/2],[p/2+r/4,q/2+r/4,p/2+q/2+r/2]])\n",
    "p = [[p_v + r/2,0,q + r/2],[0,q+r/2,p_v+r/2],[p_v/2+r/4,q/2+r/4,p_v/2+q/2+r/2]]\n",
    "p"
   ]
  },
  {
   "cell_type": "code",
   "execution_count": 12,
   "metadata": {},
   "outputs": [
    {
     "name": "stdout",
     "output_type": "stream",
     "text": [
      "\n",
      "DISCRETE-TIME MARKOV CHAIN\n",
      " SIZE:           3\n",
      " RANK:           2\n",
      " CLASSES:        1\n",
      "  > RECURRENT:   1\n",
      "  > TRANSIENT:   0\n",
      " ERGODIC:        YES\n",
      "  > APERIODIC:   YES\n",
      "  > IRREDUCIBLE: YES\n",
      " ABSORBING:      NO\n",
      " MONOTONE:       NO\n",
      " REGULAR:        YES\n",
      " REVERSIBLE:     YES\n",
      " SYMMETRIC:      NO\n",
      "\n"
     ]
    }
   ],
   "source": [
    "mc = MarkovChain(p, ['A', 'B', 'C'])\n",
    "print(mc)"
   ]
  },
  {
   "cell_type": "code",
   "execution_count": 21,
   "metadata": {},
   "outputs": [
    {
     "name": "stdout",
     "output_type": "stream",
     "text": [
      "[[6.40e+08 0.00e+00 9.60e+08]\n",
      " [0.00e+00 2.16e+09 1.44e+09]\n",
      " [9.60e+08 1.44e+09 2.40e+09]]\n"
     ]
    }
   ],
   "source": [
    "print(mc.expected_transitions(10**10))\n",
    "#print(mc.expected_rewards)"
   ]
  },
  {
   "cell_type": "code",
   "execution_count": 18,
   "metadata": {},
   "outputs": [
    {
     "ename": "NameError",
     "evalue": "name 'first_passage_probabilities' is not defined",
     "output_type": "error",
     "traceback": [
      "\u001b[0;31m---------------------------------------------------------------------------\u001b[0m",
      "\u001b[0;31mNameError\u001b[0m                                 Traceback (most recent call last)",
      "Cell \u001b[0;32mIn[18], line 1\u001b[0m\n\u001b[0;32m----> 1\u001b[0m \u001b[43mfirst_passage_probabilities\u001b[49m(\u001b[38;5;241m1\u001b[39m,mc)\n",
      "\u001b[0;31mNameError\u001b[0m: name 'first_passage_probabilities' is not defined"
     ]
    }
   ],
   "source": [
    "mc.first_passage_probabilities(1,mc)"
   ]
  },
  {
   "cell_type": "code",
   "execution_count": 47,
   "metadata": {},
   "outputs": [
    {
     "name": "stdout",
     "output_type": "stream",
     "text": [
      "a: 0.15728842711572885, b:0.36538634613653864, c:0.47732522674773253\n",
      "15729 36539 47733\n"
     ]
    }
   ],
   "source": [
    "#mc.mean_number_visits()\n",
    "#mc.to_matrix()\n",
    "#mc.transition_probability('B','A')\n",
    "#mc.simulate(10, initial_state=None, final_state=None, output_indices=False, seed=None)\n",
    "#mc.hitting_probabilities()\n",
    "#mc.conditional_probabilities('B')\n",
    "#mc.absorption_probabilities()\n",
    "lista = mc.simulate(10**5)\n",
    "a = 0\n",
    "b = 0\n",
    "c = 0\n",
    "for i in lista:\n",
    "    if i == 'A':\n",
    "        a += 1\n",
    "    elif i == 'B':\n",
    "        b += 1\n",
    "    elif i == 'C':\n",
    "        c += 1\n",
    "print(f'a: {a/len(lista)}, b:{b/len(lista)}, c:{c/len(lista)}')\n",
    "print(a,b,c)"
   ]
  }
 ],
 "metadata": {
  "kernelspec": {
   "display_name": "virtual-python",
   "language": "python",
   "name": "python3"
  },
  "language_info": {
   "codemirror_mode": {
    "name": "ipython",
    "version": 3
   },
   "file_extension": ".py",
   "mimetype": "text/x-python",
   "name": "python",
   "nbconvert_exporter": "python",
   "pygments_lexer": "ipython3",
   "version": "3.12.7"
  }
 },
 "nbformat": 4,
 "nbformat_minor": 2
}
